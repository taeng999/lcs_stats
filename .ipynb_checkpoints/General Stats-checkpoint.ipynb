{
 "cells": [
  {
   "cell_type": "code",
   "execution_count": 2,
   "metadata": {
    "collapsed": true
   },
   "outputs": [],
   "source": [
    "import requests\n",
    "from bs4 import BeautifulSoup\n",
    "\n",
    "import pandas as pd \n",
    "import numpy as np"
   ]
  },
  {
   "cell_type": "markdown",
   "metadata": {},
   "source": [
    "# NA LCS 2018 Spring Regular Season Team"
   ]
  },
  {
   "cell_type": "code",
   "execution_count": 3,
   "metadata": {
    "collapsed": true
   },
   "outputs": [],
   "source": [
    "req = requests.get('http://oracleselixir.com/statistics/na/na-lcs-2018-spring-regular-season-team-statistics/')\n",
    "soup = BeautifulSoup(req.content, 'lxml')"
   ]
  },
  {
   "cell_type": "code",
   "execution_count": 18,
   "metadata": {
    "collapsed": true
   },
   "outputs": [],
   "source": [
    "table = soup.find('tbody')"
   ]
  },
  {
   "cell_type": "code",
   "execution_count": 19,
   "metadata": {
    "scrolled": true
   },
   "outputs": [
    {
     "data": {
      "text/plain": [
       "<tbody class=\"row-hover\">\n",
       "<tr class=\"row-2 even\">\n",
       "<td class=\"column-1\">100 Thieves</td><td class=\"column-2\">19</td><td class=\"column-3\">13</td><td class=\"column-4\">6</td><td class=\"column-5\">39.1</td><td class=\"column-6\">192</td><td class=\"column-7\">155</td><td class=\"column-8\">1.24</td><td class=\"column-9\">0.47</td><td class=\"column-10\">-0.14</td><td class=\"column-11\">-0.1%</td><td class=\"column-12\">54.1</td><td class=\"column-13\">14.3</td><td class=\"column-14\">84</td><td class=\"column-15\">68%</td><td class=\"column-16\">58%</td><td class=\"column-17\">63%</td><td class=\"column-18\">47%</td><td class=\"column-19\">68%</td><td class=\"column-20\">61%</td><td class=\"column-21\">27%</td><td class=\"column-22\">58%</td><td class=\"column-23\">57%</td><td class=\"column-24\">49.9%</td><td class=\"column-25\">47.5%</td><td class=\"column-26\">4.06</td><td class=\"column-27\">1.81</td><td class=\"column-28\">66.8%</td><td class=\"column-29\">25.0%</td>\n",
       "</tr>\n",
       "<tr class=\"row-3 odd\">\n",
       "<td class=\"column-1\">Cloud9</td><td class=\"column-2\">20</td><td class=\"column-3\">12</td><td class=\"column-4\">8</td><td class=\"column-5\">36.9</td><td class=\"column-6\">223</td><td class=\"column-7\">209</td><td class=\"column-8\">1.07</td><td class=\"column-9\">0.58</td><td class=\"column-10\">0.82</td><td class=\"column-11\">5.1%</td><td class=\"column-12\">62.2</td><td class=\"column-13\">-2.2</td><td class=\"column-14\">1,183</td><td class=\"column-15\">55%</td><td class=\"column-16\">75%</td><td class=\"column-17\">70%</td><td class=\"column-18\">60%</td><td class=\"column-19\">70%</td><td class=\"column-20\">46%</td><td class=\"column-21\">50%</td><td class=\"column-22\">65%</td><td class=\"column-23\">62%</td><td class=\"column-24\">50.5%</td><td class=\"column-25\">54.7%</td><td class=\"column-26\">4.18</td><td class=\"column-27\">1.66</td><td class=\"column-28\">62.9%</td><td class=\"column-29\">23.3%</td>\n",
       "</tr>\n",
       "<tr class=\"row-4 even\">\n",
       "<td class=\"column-1\">Clutch Gaming</td><td class=\"column-2\">20</td><td class=\"column-3\">11</td><td class=\"column-4\">9</td><td class=\"column-5\">37.7</td><td class=\"column-6\">171</td><td class=\"column-7\">150</td><td class=\"column-8\">1.14</td><td class=\"column-9\">0.43</td><td class=\"column-10\">-0.13</td><td class=\"column-11\">1.1%</td><td class=\"column-12\">42.9</td><td class=\"column-13\">12.1</td><td class=\"column-14\">-827</td><td class=\"column-15\">20%</td><td class=\"column-16\">40%</td><td class=\"column-17\">40%</td><td class=\"column-18\">40%</td><td class=\"column-19\">55%</td><td class=\"column-20\">54%</td><td class=\"column-21\">78%</td><td class=\"column-22\">55%</td><td class=\"column-23\">58%</td><td class=\"column-24\">50.1%</td><td class=\"column-25\">49.4%</td><td class=\"column-26\">4.09</td><td class=\"column-27\">1.76</td><td class=\"column-28\">60.7%</td><td class=\"column-29\">28.9%</td>\n",
       "</tr>\n",
       "<tr class=\"row-5 odd\">\n",
       "<td class=\"column-1\">Counter Logic Gaming</td><td class=\"column-2\">18</td><td class=\"column-3\">7</td><td class=\"column-4\">11</td><td class=\"column-5\">38.2</td><td class=\"column-6\">188</td><td class=\"column-7\">212</td><td class=\"column-8\">0.89</td><td class=\"column-9\">0.58</td><td class=\"column-10\">-0.39</td><td class=\"column-11\">-5.4%</td><td class=\"column-12\">50.2</td><td class=\"column-13\">-11.3</td><td class=\"column-14\">-14</td><td class=\"column-15\">61%</td><td class=\"column-16\">50%</td><td class=\"column-17\">33%</td><td class=\"column-18\">33%</td><td class=\"column-19\">44%</td><td class=\"column-20\">42%</td><td class=\"column-21\">67%</td><td class=\"column-22\">28%</td><td class=\"column-23\">31%</td><td class=\"column-24\">49.7%</td><td class=\"column-25\">47.4%</td><td class=\"column-26\">4.06</td><td class=\"column-27\">1.68</td><td class=\"column-28\">57.6%</td><td class=\"column-29\">25.9%</td>\n",
       "</tr>\n",
       "<tr class=\"row-6 even\">\n",
       "<td class=\"column-1\">Echo Fox</td><td class=\"column-2\">19</td><td class=\"column-3\">12</td><td class=\"column-4\">7</td><td class=\"column-5\">37.6</td><td class=\"column-6\">243</td><td class=\"column-7\">212</td><td class=\"column-8\">1.15</td><td class=\"column-9\">0.64</td><td class=\"column-10\">0.59</td><td class=\"column-11\">4.1%</td><td class=\"column-12\">52.2</td><td class=\"column-13\">11.0</td><td class=\"column-14\">619</td><td class=\"column-15\">47%</td><td class=\"column-16\">53%</td><td class=\"column-17\">63%</td><td class=\"column-18\">53%</td><td class=\"column-19\">37%</td><td class=\"column-20\">55%</td><td class=\"column-21\">63%</td><td class=\"column-22\">37%</td><td class=\"column-23\">51%</td><td class=\"column-24\">51.5%</td><td class=\"column-25\">52.8%</td><td class=\"column-26\">3.74</td><td class=\"column-27\">1.65</td><td class=\"column-28\">63.3%</td><td class=\"column-29\">23.0%</td>\n",
       "</tr>\n",
       "<tr class=\"row-7 odd\">\n",
       "<td class=\"column-1\">FlyQuest</td><td class=\"column-2\">18</td><td class=\"column-3\">6</td><td class=\"column-4\">12</td><td class=\"column-5\">39.6</td><td class=\"column-6\">156</td><td class=\"column-7\">217</td><td class=\"column-8\">0.72</td><td class=\"column-9\">0.52</td><td class=\"column-10\">-0.59</td><td class=\"column-11\">-6.5%</td><td class=\"column-12\">39.4</td><td class=\"column-13\">-6.0</td><td class=\"column-14\">-1,155</td><td class=\"column-15\">39%</td><td class=\"column-16\">28%</td><td class=\"column-17\">28%</td><td class=\"column-18\">33%</td><td class=\"column-19\">39%</td><td class=\"column-20\">39%</td><td class=\"column-21\">44%</td><td class=\"column-22\">44%</td><td class=\"column-23\">43%</td><td class=\"column-24\">49.6%</td><td class=\"column-25\">47.4%</td><td class=\"column-26\">4.17</td><td class=\"column-27\">1.62</td><td class=\"column-28\">60.9%</td><td class=\"column-29\">23.5%</td>\n",
       "</tr>\n",
       "<tr class=\"row-8 even\">\n",
       "<td class=\"column-1\">Golden Guardians</td><td class=\"column-2\">18</td><td class=\"column-3\">4</td><td class=\"column-4\">14</td><td class=\"column-5\">36.7</td><td class=\"column-6\">156</td><td class=\"column-7\">219</td><td class=\"column-8\">0.71</td><td class=\"column-9\">0.57</td><td class=\"column-10\">-1.00</td><td class=\"column-11\">-6.4%</td><td class=\"column-12\">39.0</td><td class=\"column-13\">-16.8</td><td class=\"column-14\">-1,353</td><td class=\"column-15\">39%</td><td class=\"column-16\">39%</td><td class=\"column-17\">33%</td><td class=\"column-18\">39%</td><td class=\"column-19\">44%</td><td class=\"column-20\">36%</td><td class=\"column-21\">33%</td><td class=\"column-22\">28%</td><td class=\"column-23\">41%</td><td class=\"column-24\">48.9%</td><td class=\"column-25\">46.5%</td><td class=\"column-26\">4.55</td><td class=\"column-27\">1.49</td><td class=\"column-28\">56.1%</td><td class=\"column-29\">22.5%</td>\n",
       "</tr>\n",
       "<tr class=\"row-9 odd\">\n",
       "<td class=\"column-1\">OpTic Gaming</td><td class=\"column-2\">18</td><td class=\"column-3\">5</td><td class=\"column-4\">13</td><td class=\"column-5\">39.2</td><td class=\"column-6\">154</td><td class=\"column-7\">198</td><td class=\"column-8\">0.78</td><td class=\"column-9\">0.50</td><td class=\"column-10\">-1.09</td><td class=\"column-11\">-6.8%</td><td class=\"column-12\">39.4</td><td class=\"column-13\">-11.6</td><td class=\"column-14\">-1,061</td><td class=\"column-15\">56%</td><td class=\"column-16\">22%</td><td class=\"column-17\">22%</td><td class=\"column-18\">33%</td><td class=\"column-19\">28%</td><td class=\"column-20\">38%</td><td class=\"column-21\">27%</td><td class=\"column-22\">39%</td><td class=\"column-23\">49%</td><td class=\"column-24\">48.0%</td><td class=\"column-25\">48.1%</td><td class=\"column-26\">4.28</td><td class=\"column-27\">1.65</td><td class=\"column-28\">59.5%</td><td class=\"column-29\">26.1%</td>\n",
       "</tr>\n",
       "<tr class=\"row-10 even\">\n",
       "<td class=\"column-1\">Team Liquid</td><td class=\"column-2\">20</td><td class=\"column-3\">12</td><td class=\"column-4\">8</td><td class=\"column-5\">34.1</td><td class=\"column-6\">190</td><td class=\"column-7\">166</td><td class=\"column-8\">1.14</td><td class=\"column-9\">0.52</td><td class=\"column-10\">0.59</td><td class=\"column-11\">4.5%</td><td class=\"column-12\">60.4</td><td class=\"column-13\">-0.4</td><td class=\"column-14\">1,259</td><td class=\"column-15\">60%</td><td class=\"column-16\">65%</td><td class=\"column-17\">60%</td><td class=\"column-18\">45%</td><td class=\"column-19\">55%</td><td class=\"column-20\">63%</td><td class=\"column-21\">40%</td><td class=\"column-22\">75%</td><td class=\"column-23\">57%</td><td class=\"column-24\">50.7%</td><td class=\"column-25\">53.1%</td><td class=\"column-26\">4.45</td><td class=\"column-27\">1.83</td><td class=\"column-28\">66.8%</td><td class=\"column-29\">29.1%</td>\n",
       "</tr>\n",
       "<tr class=\"row-11 odd\">\n",
       "<td class=\"column-1\">Team SoloMid</td><td class=\"column-2\">20</td><td class=\"column-3\">13</td><td class=\"column-4\">7</td><td class=\"column-5\">39.4</td><td class=\"column-6\">219</td><td class=\"column-7\">154</td><td class=\"column-8\">1.42</td><td class=\"column-9\">0.47</td><td class=\"column-10\">1.12</td><td class=\"column-11\">8.2%</td><td class=\"column-12\">57.3</td><td class=\"column-13\">7.7</td><td class=\"column-14\">942</td><td class=\"column-15\">55%</td><td class=\"column-16\">65%</td><td class=\"column-17\">80%</td><td class=\"column-18\">55%</td><td class=\"column-19\">55%</td><td class=\"column-20\">64%</td><td class=\"column-21\">70%</td><td class=\"column-22\">65%</td><td class=\"column-23\">51%</td><td class=\"column-24\">50.7%</td><td class=\"column-25\">52.0%</td><td class=\"column-26\">4.27</td><td class=\"column-27\">1.42</td><td class=\"column-28\">61.0%</td><td class=\"column-29\">22.2%</td>\n",
       "</tr>\n",
       "</tbody>"
      ]
     },
     "execution_count": 19,
     "metadata": {},
     "output_type": "execute_result"
    }
   ],
   "source": [
    "table"
   ]
  },
  {
   "cell_type": "code",
   "execution_count": 20,
   "metadata": {
    "collapsed": true
   },
   "outputs": [],
   "source": [
    "trs = table.find_all('tr')"
   ]
  },
  {
   "cell_type": "code",
   "execution_count": 45,
   "metadata": {
    "collapsed": true
   },
   "outputs": [],
   "source": [
    "lcs = pd.DataFrame(columns = [['TeamName', 'GP', 'W', 'L', 'AGT', 'K', 'D', 'K_D', 'CKPM', 'GPR', 'GSPD', 'EGR', 'MLR']])"
   ]
  },
  {
   "cell_type": "code",
   "execution_count": 50,
   "metadata": {},
   "outputs": [
    {
     "data": {
      "text/html": [
       "<div>\n",
       "<style>\n",
       "    .dataframe thead tr:only-child th {\n",
       "        text-align: right;\n",
       "    }\n",
       "\n",
       "    .dataframe thead th {\n",
       "        text-align: left;\n",
       "    }\n",
       "\n",
       "    .dataframe tbody tr th {\n",
       "        vertical-align: top;\n",
       "    }\n",
       "</style>\n",
       "<table border=\"1\" class=\"dataframe\">\n",
       "  <thead>\n",
       "    <tr style=\"text-align: right;\">\n",
       "      <th></th>\n",
       "      <th>TeamName</th>\n",
       "      <th>GP</th>\n",
       "      <th>W</th>\n",
       "      <th>L</th>\n",
       "      <th>AGT</th>\n",
       "      <th>K</th>\n",
       "      <th>D</th>\n",
       "      <th>K_D</th>\n",
       "      <th>CKPM</th>\n",
       "      <th>GPR</th>\n",
       "      <th>GSPD</th>\n",
       "      <th>EGR</th>\n",
       "      <th>MLR</th>\n",
       "    </tr>\n",
       "  </thead>\n",
       "  <tbody>\n",
       "    <tr>\n",
       "      <th>0</th>\n",
       "      <td>100 Thieves</td>\n",
       "      <td>19</td>\n",
       "      <td>13</td>\n",
       "      <td>6</td>\n",
       "      <td>39.1</td>\n",
       "      <td>192</td>\n",
       "      <td>155</td>\n",
       "      <td>1.24</td>\n",
       "      <td>0.47</td>\n",
       "      <td>-0.14</td>\n",
       "      <td>-0.1%</td>\n",
       "      <td>54.1</td>\n",
       "      <td>14.3</td>\n",
       "    </tr>\n",
       "    <tr>\n",
       "      <th>1</th>\n",
       "      <td>Cloud9</td>\n",
       "      <td>20</td>\n",
       "      <td>12</td>\n",
       "      <td>8</td>\n",
       "      <td>36.9</td>\n",
       "      <td>223</td>\n",
       "      <td>209</td>\n",
       "      <td>1.07</td>\n",
       "      <td>0.58</td>\n",
       "      <td>0.82</td>\n",
       "      <td>5.1%</td>\n",
       "      <td>62.2</td>\n",
       "      <td>-2.2</td>\n",
       "    </tr>\n",
       "    <tr>\n",
       "      <th>2</th>\n",
       "      <td>Clutch Gaming</td>\n",
       "      <td>20</td>\n",
       "      <td>11</td>\n",
       "      <td>9</td>\n",
       "      <td>37.7</td>\n",
       "      <td>171</td>\n",
       "      <td>150</td>\n",
       "      <td>1.14</td>\n",
       "      <td>0.43</td>\n",
       "      <td>-0.13</td>\n",
       "      <td>1.1%</td>\n",
       "      <td>42.9</td>\n",
       "      <td>12.1</td>\n",
       "    </tr>\n",
       "    <tr>\n",
       "      <th>3</th>\n",
       "      <td>Counter Logic Gaming</td>\n",
       "      <td>18</td>\n",
       "      <td>7</td>\n",
       "      <td>11</td>\n",
       "      <td>38.2</td>\n",
       "      <td>188</td>\n",
       "      <td>212</td>\n",
       "      <td>0.89</td>\n",
       "      <td>0.58</td>\n",
       "      <td>-0.39</td>\n",
       "      <td>-5.4%</td>\n",
       "      <td>50.2</td>\n",
       "      <td>-11.3</td>\n",
       "    </tr>\n",
       "    <tr>\n",
       "      <th>4</th>\n",
       "      <td>Echo Fox</td>\n",
       "      <td>19</td>\n",
       "      <td>12</td>\n",
       "      <td>7</td>\n",
       "      <td>37.6</td>\n",
       "      <td>243</td>\n",
       "      <td>212</td>\n",
       "      <td>1.15</td>\n",
       "      <td>0.64</td>\n",
       "      <td>0.59</td>\n",
       "      <td>4.1%</td>\n",
       "      <td>52.2</td>\n",
       "      <td>11.0</td>\n",
       "    </tr>\n",
       "    <tr>\n",
       "      <th>5</th>\n",
       "      <td>FlyQuest</td>\n",
       "      <td>18</td>\n",
       "      <td>6</td>\n",
       "      <td>12</td>\n",
       "      <td>39.6</td>\n",
       "      <td>156</td>\n",
       "      <td>217</td>\n",
       "      <td>0.72</td>\n",
       "      <td>0.52</td>\n",
       "      <td>-0.59</td>\n",
       "      <td>-6.5%</td>\n",
       "      <td>39.4</td>\n",
       "      <td>-6.0</td>\n",
       "    </tr>\n",
       "    <tr>\n",
       "      <th>6</th>\n",
       "      <td>Golden Guardians</td>\n",
       "      <td>18</td>\n",
       "      <td>4</td>\n",
       "      <td>14</td>\n",
       "      <td>36.7</td>\n",
       "      <td>156</td>\n",
       "      <td>219</td>\n",
       "      <td>0.71</td>\n",
       "      <td>0.57</td>\n",
       "      <td>-1.00</td>\n",
       "      <td>-6.4%</td>\n",
       "      <td>39.0</td>\n",
       "      <td>-16.8</td>\n",
       "    </tr>\n",
       "    <tr>\n",
       "      <th>7</th>\n",
       "      <td>OpTic Gaming</td>\n",
       "      <td>18</td>\n",
       "      <td>5</td>\n",
       "      <td>13</td>\n",
       "      <td>39.2</td>\n",
       "      <td>154</td>\n",
       "      <td>198</td>\n",
       "      <td>0.78</td>\n",
       "      <td>0.50</td>\n",
       "      <td>-1.09</td>\n",
       "      <td>-6.8%</td>\n",
       "      <td>39.4</td>\n",
       "      <td>-11.6</td>\n",
       "    </tr>\n",
       "    <tr>\n",
       "      <th>8</th>\n",
       "      <td>Team Liquid</td>\n",
       "      <td>20</td>\n",
       "      <td>12</td>\n",
       "      <td>8</td>\n",
       "      <td>34.1</td>\n",
       "      <td>190</td>\n",
       "      <td>166</td>\n",
       "      <td>1.14</td>\n",
       "      <td>0.52</td>\n",
       "      <td>0.59</td>\n",
       "      <td>4.5%</td>\n",
       "      <td>60.4</td>\n",
       "      <td>-0.4</td>\n",
       "    </tr>\n",
       "    <tr>\n",
       "      <th>9</th>\n",
       "      <td>Team SoloMid</td>\n",
       "      <td>20</td>\n",
       "      <td>13</td>\n",
       "      <td>7</td>\n",
       "      <td>39.4</td>\n",
       "      <td>219</td>\n",
       "      <td>154</td>\n",
       "      <td>1.42</td>\n",
       "      <td>0.47</td>\n",
       "      <td>1.12</td>\n",
       "      <td>8.2%</td>\n",
       "      <td>57.3</td>\n",
       "      <td>7.7</td>\n",
       "    </tr>\n",
       "  </tbody>\n",
       "</table>\n",
       "</div>"
      ],
      "text/plain": [
       "               TeamName  GP   W   L   AGT    K    D   K_D  CKPM    GPR   GSPD  \\\n",
       "0           100 Thieves  19  13   6  39.1  192  155  1.24  0.47  -0.14  -0.1%   \n",
       "1                Cloud9  20  12   8  36.9  223  209  1.07  0.58   0.82   5.1%   \n",
       "2         Clutch Gaming  20  11   9  37.7  171  150  1.14  0.43  -0.13   1.1%   \n",
       "3  Counter Logic Gaming  18   7  11  38.2  188  212  0.89  0.58  -0.39  -5.4%   \n",
       "4              Echo Fox  19  12   7  37.6  243  212  1.15  0.64   0.59   4.1%   \n",
       "5              FlyQuest  18   6  12  39.6  156  217  0.72  0.52  -0.59  -6.5%   \n",
       "6      Golden Guardians  18   4  14  36.7  156  219  0.71  0.57  -1.00  -6.4%   \n",
       "7          OpTic Gaming  18   5  13  39.2  154  198  0.78  0.50  -1.09  -6.8%   \n",
       "8           Team Liquid  20  12   8  34.1  190  166  1.14  0.52   0.59   4.5%   \n",
       "9          Team SoloMid  20  13   7  39.4  219  154  1.42  0.47   1.12   8.2%   \n",
       "\n",
       "    EGR    MLR  \n",
       "0  54.1   14.3  \n",
       "1  62.2   -2.2  \n",
       "2  42.9   12.1  \n",
       "3  50.2  -11.3  \n",
       "4  52.2   11.0  \n",
       "5  39.4   -6.0  \n",
       "6  39.0  -16.8  \n",
       "7  39.4  -11.6  \n",
       "8  60.4   -0.4  \n",
       "9  57.3    7.7  "
      ]
     },
     "execution_count": 50,
     "metadata": {},
     "output_type": "execute_result"
    }
   ],
   "source": [
    "lcs"
   ]
  },
  {
   "cell_type": "code",
   "execution_count": 47,
   "metadata": {
    "collapsed": true
   },
   "outputs": [],
   "source": [
    "for row in trs:\n",
    "    td = row.find_all('td')\n",
    "    teamName = td[0].text\n",
    "    GP = td[1].text\n",
    "    W = td[2].text\n",
    "    L = td[3].text\n",
    "    AGT = td[4].text\n",
    "    K = td[5].text\n",
    "    D = td[6].text\n",
    "    K_D = td[7].text\n",
    "    CKPM = td[8].text\n",
    "    GPR  = td[9].text\n",
    "    GSPD = td[10].text\n",
    "    EGR = td[11].text\n",
    "    MLR = td[12].text\n",
    "    lcs.loc[len(lcs)] = [teamName, GP, W, L, AGT, K, D, K_D, CKPM, GPR, GSPD, EGR, MLR]"
   ]
  },
  {
   "cell_type": "code",
   "execution_count": 49,
   "metadata": {
    "collapsed": true
   },
   "outputs": [],
   "source": [
    "lcs.to_csv('lcs_stat_2018.csv')"
   ]
  },
  {
   "cell_type": "markdown",
   "metadata": {},
   "source": [
    "# NA LCS 2018 Spring Regular Season Player"
   ]
  },
  {
   "cell_type": "markdown",
   "metadata": {},
   "source": [
    "http://oracleselixir.com/statistics/na/na-lcs-2018-spring-regular-season-player-statistics/"
   ]
  },
  {
   "cell_type": "code",
   "execution_count": 51,
   "metadata": {
    "collapsed": true
   },
   "outputs": [],
   "source": [
    "req = requests.get('http://oracleselixir.com/statistics/na/na-lcs-2018-spring-regular-season-player-statistics/')\n",
    "soup = BeautifulSoup(req.content, 'lxml')"
   ]
  },
  {
   "cell_type": "code",
   "execution_count": 52,
   "metadata": {
    "collapsed": true
   },
   "outputs": [],
   "source": [
    "table = soup.find('tbody')"
   ]
  },
  {
   "cell_type": "code",
   "execution_count": 63,
   "metadata": {
    "collapsed": true
   },
   "outputs": [],
   "source": [
    "lcs_player = pd.DataFrame(columns=[['Player', 'Team', 'Pos', 'GP', 'W%', 'K', 'D', 'A', 'KDA', 'KP', 'DTH%', 'FB%', 'GD10', 'XPD10', 'CS-D10', 'CSPM']])"
   ]
  },
  {
   "cell_type": "code",
   "execution_count": 64,
   "metadata": {},
   "outputs": [
    {
     "data": {
      "text/plain": [
       "(0, 16)"
      ]
     },
     "execution_count": 64,
     "metadata": {},
     "output_type": "execute_result"
    }
   ],
   "source": [
    "lcs_player.shape"
   ]
  },
  {
   "cell_type": "code",
   "execution_count": 70,
   "metadata": {
    "collapsed": true,
    "scrolled": true
   },
   "outputs": [],
   "source": [
    "trs = table.find_all('tr')\n",
    "for row in trs:\n",
    "    td = row.find_all('td')\n",
    "    Player = td[0].text\n",
    "    Team = td[1].text \n",
    "    Pos = td[2].text \n",
    "    GP = td[3].text\n",
    "    W = td[4].text\n",
    "    K = td[5].text\n",
    "    D = td[6].text \n",
    "    A = td[7].text\n",
    "    KDA = td[8].text\n",
    "    KP = td[9].text \n",
    "    DTH = td[10].text\n",
    "    FB = td[11].text \n",
    "    GD10 = td[12].text \n",
    "    XPD10 = td[13].text \n",
    "    CSD10 = td[14].text \n",
    "    CSPM = td[15].text\n",
    "    lcs_player.loc[len(lcs_player)] = [Player, Team, Pos, GP, W, K, D, A, KDA, KP, DTH, FB, GD10, XPD10, CSD10, CSPM]"
   ]
  },
  {
   "cell_type": "code",
   "execution_count": 72,
   "metadata": {
    "collapsed": true
   },
   "outputs": [],
   "source": [
    "lcs_player.to_csv('lcs_player_2018.csv')"
   ]
  },
  {
   "cell_type": "code",
   "execution_count": 1,
   "metadata": {},
   "outputs": [
    {
     "ename": "NameError",
     "evalue": "name 'lcs_player' is not defined",
     "output_type": "error",
     "traceback": [
      "\u001b[0;31m---------------------------------------------------------------------------\u001b[0m",
      "\u001b[0;31mNameError\u001b[0m                                 Traceback (most recent call last)",
      "\u001b[0;32m<ipython-input-1-a169a3612f70>\u001b[0m in \u001b[0;36m<module>\u001b[0;34m()\u001b[0m\n\u001b[0;32m----> 1\u001b[0;31m \u001b[0mlcs_player\u001b[0m\u001b[0;34m\u001b[0m\u001b[0m\n\u001b[0m",
      "\u001b[0;31mNameError\u001b[0m: name 'lcs_player' is not defined"
     ]
    }
   ],
   "source": []
  },
  {
   "cell_type": "code",
   "execution_count": null,
   "metadata": {
    "collapsed": true
   },
   "outputs": [],
   "source": []
  }
 ],
 "metadata": {
  "kernelspec": {
   "display_name": "Python 3",
   "language": "python",
   "name": "python3"
  },
  "language_info": {
   "codemirror_mode": {
    "name": "ipython",
    "version": 3
   },
   "file_extension": ".py",
   "mimetype": "text/x-python",
   "name": "python",
   "nbconvert_exporter": "python",
   "pygments_lexer": "ipython3",
   "version": "3.6.3"
  }
 },
 "nbformat": 4,
 "nbformat_minor": 2
}
