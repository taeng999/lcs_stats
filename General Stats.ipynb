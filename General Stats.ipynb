{
 "cells": [
  {
   "cell_type": "code",
   "execution_count": 2,
   "metadata": {
    "collapsed": true
   },
   "outputs": [],
   "source": [
    "import requests\n",
    "from bs4 import BeautifulSoup\n",
    "\n",
    "import pandas as pd \n",
    "import numpy as np"
   ]
  },
  {
   "cell_type": "code",
   "execution_count": 3,
   "metadata": {
    "collapsed": true
   },
   "outputs": [],
   "source": [
    "req = requests.get('http://oracleselixir.com/statistics/na/na-lcs-2018-spring-regular-season-team-statistics/')\n",
    "soup = BeautifulSoup(req.content, 'lxml')"
   ]
  },
  {
   "cell_type": "code",
   "execution_count": 18,
   "metadata": {},
   "outputs": [],
   "source": [
    "table = soup.find('tbody')"
   ]
  },
  {
   "cell_type": "code",
   "execution_count": 19,
   "metadata": {
    "scrolled": true
   },
   "outputs": [
    {
     "data": {
      "text/plain": [
       "<tbody class=\"row-hover\">\n",
       "<tr class=\"row-2 even\">\n",
       "<td class=\"column-1\">100 Thieves</td><td class=\"column-2\">19</td><td class=\"column-3\">13</td><td class=\"column-4\">6</td><td class=\"column-5\">39.1</td><td class=\"column-6\">192</td><td class=\"column-7\">155</td><td class=\"column-8\">1.24</td><td class=\"column-9\">0.47</td><td class=\"column-10\">-0.14</td><td class=\"column-11\">-0.1%</td><td class=\"column-12\">54.1</td><td class=\"column-13\">14.3</td><td class=\"column-14\">84</td><td class=\"column-15\">68%</td><td class=\"column-16\">58%</td><td class=\"column-17\">63%</td><td class=\"column-18\">47%</td><td class=\"column-19\">68%</td><td class=\"column-20\">61%</td><td class=\"column-21\">27%</td><td class=\"column-22\">58%</td><td class=\"column-23\">57%</td><td class=\"column-24\">49.9%</td><td class=\"column-25\">47.5%</td><td class=\"column-26\">4.06</td><td class=\"column-27\">1.81</td><td class=\"column-28\">66.8%</td><td class=\"column-29\">25.0%</td>\n",
       "</tr>\n",
       "<tr class=\"row-3 odd\">\n",
       "<td class=\"column-1\">Cloud9</td><td class=\"column-2\">20</td><td class=\"column-3\">12</td><td class=\"column-4\">8</td><td class=\"column-5\">36.9</td><td class=\"column-6\">223</td><td class=\"column-7\">209</td><td class=\"column-8\">1.07</td><td class=\"column-9\">0.58</td><td class=\"column-10\">0.82</td><td class=\"column-11\">5.1%</td><td class=\"column-12\">62.2</td><td class=\"column-13\">-2.2</td><td class=\"column-14\">1,183</td><td class=\"column-15\">55%</td><td class=\"column-16\">75%</td><td class=\"column-17\">70%</td><td class=\"column-18\">60%</td><td class=\"column-19\">70%</td><td class=\"column-20\">46%</td><td class=\"column-21\">50%</td><td class=\"column-22\">65%</td><td class=\"column-23\">62%</td><td class=\"column-24\">50.5%</td><td class=\"column-25\">54.7%</td><td class=\"column-26\">4.18</td><td class=\"column-27\">1.66</td><td class=\"column-28\">62.9%</td><td class=\"column-29\">23.3%</td>\n",
       "</tr>\n",
       "<tr class=\"row-4 even\">\n",
       "<td class=\"column-1\">Clutch Gaming</td><td class=\"column-2\">20</td><td class=\"column-3\">11</td><td class=\"column-4\">9</td><td class=\"column-5\">37.7</td><td class=\"column-6\">171</td><td class=\"column-7\">150</td><td class=\"column-8\">1.14</td><td class=\"column-9\">0.43</td><td class=\"column-10\">-0.13</td><td class=\"column-11\">1.1%</td><td class=\"column-12\">42.9</td><td class=\"column-13\">12.1</td><td class=\"column-14\">-827</td><td class=\"column-15\">20%</td><td class=\"column-16\">40%</td><td class=\"column-17\">40%</td><td class=\"column-18\">40%</td><td class=\"column-19\">55%</td><td class=\"column-20\">54%</td><td class=\"column-21\">78%</td><td class=\"column-22\">55%</td><td class=\"column-23\">58%</td><td class=\"column-24\">50.1%</td><td class=\"column-25\">49.4%</td><td class=\"column-26\">4.09</td><td class=\"column-27\">1.76</td><td class=\"column-28\">60.7%</td><td class=\"column-29\">28.9%</td>\n",
       "</tr>\n",
       "<tr class=\"row-5 odd\">\n",
       "<td class=\"column-1\">Counter Logic Gaming</td><td class=\"column-2\">18</td><td class=\"column-3\">7</td><td class=\"column-4\">11</td><td class=\"column-5\">38.2</td><td class=\"column-6\">188</td><td class=\"column-7\">212</td><td class=\"column-8\">0.89</td><td class=\"column-9\">0.58</td><td class=\"column-10\">-0.39</td><td class=\"column-11\">-5.4%</td><td class=\"column-12\">50.2</td><td class=\"column-13\">-11.3</td><td class=\"column-14\">-14</td><td class=\"column-15\">61%</td><td class=\"column-16\">50%</td><td class=\"column-17\">33%</td><td class=\"column-18\">33%</td><td class=\"column-19\">44%</td><td class=\"column-20\">42%</td><td class=\"column-21\">67%</td><td class=\"column-22\">28%</td><td class=\"column-23\">31%</td><td class=\"column-24\">49.7%</td><td class=\"column-25\">47.4%</td><td class=\"column-26\">4.06</td><td class=\"column-27\">1.68</td><td class=\"column-28\">57.6%</td><td class=\"column-29\">25.9%</td>\n",
       "</tr>\n",
       "<tr class=\"row-6 even\">\n",
       "<td class=\"column-1\">Echo Fox</td><td class=\"column-2\">19</td><td class=\"column-3\">12</td><td class=\"column-4\">7</td><td class=\"column-5\">37.6</td><td class=\"column-6\">243</td><td class=\"column-7\">212</td><td class=\"column-8\">1.15</td><td class=\"column-9\">0.64</td><td class=\"column-10\">0.59</td><td class=\"column-11\">4.1%</td><td class=\"column-12\">52.2</td><td class=\"column-13\">11.0</td><td class=\"column-14\">619</td><td class=\"column-15\">47%</td><td class=\"column-16\">53%</td><td class=\"column-17\">63%</td><td class=\"column-18\">53%</td><td class=\"column-19\">37%</td><td class=\"column-20\">55%</td><td class=\"column-21\">63%</td><td class=\"column-22\">37%</td><td class=\"column-23\">51%</td><td class=\"column-24\">51.5%</td><td class=\"column-25\">52.8%</td><td class=\"column-26\">3.74</td><td class=\"column-27\">1.65</td><td class=\"column-28\">63.3%</td><td class=\"column-29\">23.0%</td>\n",
       "</tr>\n",
       "<tr class=\"row-7 odd\">\n",
       "<td class=\"column-1\">FlyQuest</td><td class=\"column-2\">18</td><td class=\"column-3\">6</td><td class=\"column-4\">12</td><td class=\"column-5\">39.6</td><td class=\"column-6\">156</td><td class=\"column-7\">217</td><td class=\"column-8\">0.72</td><td class=\"column-9\">0.52</td><td class=\"column-10\">-0.59</td><td class=\"column-11\">-6.5%</td><td class=\"column-12\">39.4</td><td class=\"column-13\">-6.0</td><td class=\"column-14\">-1,155</td><td class=\"column-15\">39%</td><td class=\"column-16\">28%</td><td class=\"column-17\">28%</td><td class=\"column-18\">33%</td><td class=\"column-19\">39%</td><td class=\"column-20\">39%</td><td class=\"column-21\">44%</td><td class=\"column-22\">44%</td><td class=\"column-23\">43%</td><td class=\"column-24\">49.6%</td><td class=\"column-25\">47.4%</td><td class=\"column-26\">4.17</td><td class=\"column-27\">1.62</td><td class=\"column-28\">60.9%</td><td class=\"column-29\">23.5%</td>\n",
       "</tr>\n",
       "<tr class=\"row-8 even\">\n",
       "<td class=\"column-1\">Golden Guardians</td><td class=\"column-2\">18</td><td class=\"column-3\">4</td><td class=\"column-4\">14</td><td class=\"column-5\">36.7</td><td class=\"column-6\">156</td><td class=\"column-7\">219</td><td class=\"column-8\">0.71</td><td class=\"column-9\">0.57</td><td class=\"column-10\">-1.00</td><td class=\"column-11\">-6.4%</td><td class=\"column-12\">39.0</td><td class=\"column-13\">-16.8</td><td class=\"column-14\">-1,353</td><td class=\"column-15\">39%</td><td class=\"column-16\">39%</td><td class=\"column-17\">33%</td><td class=\"column-18\">39%</td><td class=\"column-19\">44%</td><td class=\"column-20\">36%</td><td class=\"column-21\">33%</td><td class=\"column-22\">28%</td><td class=\"column-23\">41%</td><td class=\"column-24\">48.9%</td><td class=\"column-25\">46.5%</td><td class=\"column-26\">4.55</td><td class=\"column-27\">1.49</td><td class=\"column-28\">56.1%</td><td class=\"column-29\">22.5%</td>\n",
       "</tr>\n",
       "<tr class=\"row-9 odd\">\n",
       "<td class=\"column-1\">OpTic Gaming</td><td class=\"column-2\">18</td><td class=\"column-3\">5</td><td class=\"column-4\">13</td><td class=\"column-5\">39.2</td><td class=\"column-6\">154</td><td class=\"column-7\">198</td><td class=\"column-8\">0.78</td><td class=\"column-9\">0.50</td><td class=\"column-10\">-1.09</td><td class=\"column-11\">-6.8%</td><td class=\"column-12\">39.4</td><td class=\"column-13\">-11.6</td><td class=\"column-14\">-1,061</td><td class=\"column-15\">56%</td><td class=\"column-16\">22%</td><td class=\"column-17\">22%</td><td class=\"column-18\">33%</td><td class=\"column-19\">28%</td><td class=\"column-20\">38%</td><td class=\"column-21\">27%</td><td class=\"column-22\">39%</td><td class=\"column-23\">49%</td><td class=\"column-24\">48.0%</td><td class=\"column-25\">48.1%</td><td class=\"column-26\">4.28</td><td class=\"column-27\">1.65</td><td class=\"column-28\">59.5%</td><td class=\"column-29\">26.1%</td>\n",
       "</tr>\n",
       "<tr class=\"row-10 even\">\n",
       "<td class=\"column-1\">Team Liquid</td><td class=\"column-2\">20</td><td class=\"column-3\">12</td><td class=\"column-4\">8</td><td class=\"column-5\">34.1</td><td class=\"column-6\">190</td><td class=\"column-7\">166</td><td class=\"column-8\">1.14</td><td class=\"column-9\">0.52</td><td class=\"column-10\">0.59</td><td class=\"column-11\">4.5%</td><td class=\"column-12\">60.4</td><td class=\"column-13\">-0.4</td><td class=\"column-14\">1,259</td><td class=\"column-15\">60%</td><td class=\"column-16\">65%</td><td class=\"column-17\">60%</td><td class=\"column-18\">45%</td><td class=\"column-19\">55%</td><td class=\"column-20\">63%</td><td class=\"column-21\">40%</td><td class=\"column-22\">75%</td><td class=\"column-23\">57%</td><td class=\"column-24\">50.7%</td><td class=\"column-25\">53.1%</td><td class=\"column-26\">4.45</td><td class=\"column-27\">1.83</td><td class=\"column-28\">66.8%</td><td class=\"column-29\">29.1%</td>\n",
       "</tr>\n",
       "<tr class=\"row-11 odd\">\n",
       "<td class=\"column-1\">Team SoloMid</td><td class=\"column-2\">20</td><td class=\"column-3\">13</td><td class=\"column-4\">7</td><td class=\"column-5\">39.4</td><td class=\"column-6\">219</td><td class=\"column-7\">154</td><td class=\"column-8\">1.42</td><td class=\"column-9\">0.47</td><td class=\"column-10\">1.12</td><td class=\"column-11\">8.2%</td><td class=\"column-12\">57.3</td><td class=\"column-13\">7.7</td><td class=\"column-14\">942</td><td class=\"column-15\">55%</td><td class=\"column-16\">65%</td><td class=\"column-17\">80%</td><td class=\"column-18\">55%</td><td class=\"column-19\">55%</td><td class=\"column-20\">64%</td><td class=\"column-21\">70%</td><td class=\"column-22\">65%</td><td class=\"column-23\">51%</td><td class=\"column-24\">50.7%</td><td class=\"column-25\">52.0%</td><td class=\"column-26\">4.27</td><td class=\"column-27\">1.42</td><td class=\"column-28\">61.0%</td><td class=\"column-29\">22.2%</td>\n",
       "</tr>\n",
       "</tbody>"
      ]
     },
     "execution_count": 19,
     "metadata": {},
     "output_type": "execute_result"
    }
   ],
   "source": [
    "table"
   ]
  },
  {
   "cell_type": "code",
   "execution_count": 20,
   "metadata": {
    "collapsed": true
   },
   "outputs": [],
   "source": [
    "trs = table.find_all('tr')"
   ]
  },
  {
   "cell_type": "code",
   "execution_count": 45,
   "metadata": {
    "collapsed": true
   },
   "outputs": [],
   "source": [
    "lcs = pd.DataFrame(columns = [['TeamName', 'GP', 'W', 'L', 'AGT', 'K', 'D', 'K_D', 'CKPM', 'GPR', 'GSPD', 'EGR', 'MLR']])"
   ]
  },
  {
   "cell_type": "code",
   "execution_count": 46,
   "metadata": {},
   "outputs": [
    {
     "data": {
      "text/html": [
       "<div>\n",
       "<style>\n",
       "    .dataframe thead tr:only-child th {\n",
       "        text-align: right;\n",
       "    }\n",
       "\n",
       "    .dataframe thead th {\n",
       "        text-align: left;\n",
       "    }\n",
       "\n",
       "    .dataframe tbody tr th {\n",
       "        vertical-align: top;\n",
       "    }\n",
       "</style>\n",
       "<table border=\"1\" class=\"dataframe\">\n",
       "  <thead>\n",
       "    <tr style=\"text-align: right;\">\n",
       "      <th></th>\n",
       "      <th>TeamName</th>\n",
       "      <th>GP</th>\n",
       "      <th>W</th>\n",
       "      <th>L</th>\n",
       "      <th>AGT</th>\n",
       "      <th>K</th>\n",
       "      <th>D</th>\n",
       "      <th>K_D</th>\n",
       "      <th>CKPM</th>\n",
       "      <th>GPR</th>\n",
       "      <th>GSPD</th>\n",
       "      <th>EGR</th>\n",
       "      <th>MLR</th>\n",
       "    </tr>\n",
       "  </thead>\n",
       "  <tbody>\n",
       "  </tbody>\n",
       "</table>\n",
       "</div>"
      ],
      "text/plain": [
       "Empty DataFrame\n",
       "Columns: [TeamName, GP, W, L, AGT, K, D, K_D, CKPM, GPR, GSPD, EGR, MLR]\n",
       "Index: []"
      ]
     },
     "execution_count": 46,
     "metadata": {},
     "output_type": "execute_result"
    }
   ],
   "source": [
    "lcs"
   ]
  },
  {
   "cell_type": "code",
   "execution_count": 47,
   "metadata": {},
   "outputs": [],
   "source": [
    "for row in trs:\n",
    "    td = row.find_all('td')\n",
    "    teamName = td[0].text\n",
    "    GP = td[1].text\n",
    "    W = td[2].text\n",
    "    L = td[3].text\n",
    "    AGT = td[4].text\n",
    "    K = td[5].text\n",
    "    D = td[6].text\n",
    "    K_D = td[7].text\n",
    "    CKPM = td[8].text\n",
    "    GPR  = td[9].text\n",
    "    GSPD = td[10].text\n",
    "    EGR = td[11].text\n",
    "    MLR = td[12].text\n",
    "    lcs.loc[len(lcs)] = [teamName, GP, W, L, AGT, K, D, K_D, CKPM, GPR, GSPD, EGR, MLR]"
   ]
  },
  {
   "cell_type": "code",
   "execution_count": 49,
   "metadata": {},
   "outputs": [],
   "source": [
    "lcs.to_csv('lcs_stat_2018.csv')"
   ]
  },
  {
   "cell_type": "code",
   "execution_count": null,
   "metadata": {
    "collapsed": true
   },
   "outputs": [],
   "source": []
  }
 ],
 "metadata": {
  "kernelspec": {
   "display_name": "Python 3",
   "language": "python",
   "name": "python3"
  },
  "language_info": {
   "codemirror_mode": {
    "name": "ipython",
    "version": 3
   },
   "file_extension": ".py",
   "mimetype": "text/x-python",
   "name": "python",
   "nbconvert_exporter": "python",
   "pygments_lexer": "ipython3",
   "version": "3.6.3"
  }
 },
 "nbformat": 4,
 "nbformat_minor": 2
}
